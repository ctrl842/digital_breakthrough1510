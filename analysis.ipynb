{
  "cells": [
    {
      "cell_type": "markdown",
      "source": [
        "# Статистический анализ полученного результата"
      ],
      "metadata": {
        "id": "oGEoVlYh9gX8"
      }
    },
    {
      "cell_type": "code",
      "execution_count": null,
      "metadata": {
        "id": "qtsw8xdtvQI2"
      },
      "outputs": [],
      "source": [
        "import numpy as np"
      ]
    },
    {
      "cell_type": "code",
      "source": [
        "Y  = np.load(\"C:\\\\Users\\\\79213\\\\Desktop\\\\хакатоны\\\\Bank\\\\res_adam(5,6score).npy\")\n",
        "Y2 = np.load(\"C:\\\\Users\\\\79213\\\\Desktop\\\\хакатоны\\\\Bank\\\\res_4_third.npy\")\n",
        "Y4 = np.load(\"C:\\\\Users\\\\79213\\\\Desktop\\\\хакатоны\\\\Bank\\\\res_4_f.npy\")"
      ],
      "metadata": {
        "id": "Oj6DRcY6Svd-"
      },
      "execution_count": null,
      "outputs": []
    },
    {
      "cell_type": "code",
      "source": [
        "def mean(b):\n",
        "    mean_ = np.mean(np.array(b), axis=0)\n",
        "    return mean_\n",
        "\n",
        "def more(a,b):\n",
        "    if a>b:\n",
        "        j = 1\n",
        "    else:\n",
        "        j = 0\n",
        "    return j\n",
        "\n",
        "def les_or_eq(a,b):\n",
        "    if b<a:\n",
        "        j = 0\n",
        "    else:\n",
        "        j = 1\n",
        "    return j\n",
        "q = np.zeros([len(a),len(a[0])])"
      ],
      "metadata": {
        "id": "O7zrreATSvvg"
      },
      "execution_count": null,
      "outputs": []
    },
    {
      "cell_type": "code",
      "execution_count": null,
      "metadata": {
        "id": "CiN4mOIhvQJB"
      },
      "outputs": [],
      "source": [
        "def count_q(t,a1,a3,a5):\n",
        "    q = np.zeros([len(a1),len(a1[0])])\n",
        "    qq = np.zeros([len(a1),len(a1[0])])\n",
        "    q1 = np.zeros([len(a1),len(a1[0])])\n",
        "    q3 = np.zeros([len(a1),len(a1[0])])\n",
        "    q5 = np.zeros([len(a1),len(a1[0])])\n",
        "    for i in range(len(a1)):\n",
        "        for j in range(len(a1[0])):\n",
        "            q1[i,j] = sum([\n",
        "\n",
        "                         (t/100*(more(a3[i,j],a1[i,j]))+(1-t/100)*les_or_eq(a3[i,j],a1[i,j]))*abs(a3[i,j]-a1[i,j]),\n",
        "\n",
        "                         (t/100*(more(a5[i,j],a1[i,j]))+(1-t/100)*les_or_eq(a5[i,j],a1[i,j]))*abs(a5[i,j]-a1[i,j]),])\n",
        "\n",
        "\n",
        "            q3[i,j] =sum([\n",
        "                        (t/100*(more(a1[i,j],a3[i,j]))+(1-t/100)*les_or_eq(a1[i,j],a3[i,j]))*abs(a1[i,j]-a3[i,j]),\n",
        "                         (t/100*(more(a5[i,j],a3[i,j]))+(1-t/100)*les_or_eq(a5[i,j],a3[i,j]))*abs(a5[i,j]-a3[i,j]),])\n",
        "\n",
        "\n",
        "            q5[i,j] =sum([\n",
        "                         (t/100*(more(a3[i,j],a5[i,j]))+(1-t/100)*les_or_eq(a3[i,j],a5[i,j]))*abs(a3[i,j]-a5[i,j]),\n",
        "                         (t/100*(more(a1[i,j],a5[i,j]))+(1-t/100)*les_or_eq(a1[i,j],a5[i,j]))*abs(a1[i,j]-a5[i,j]),])\n",
        "\n",
        "            q[i,j] = min(q1[i,j],q3[i,j],q5[i,j])\n",
        "\n",
        "            if q[i,j] ==q1[i,j]:\n",
        "                qq[i,j] = a1[i,j]\n",
        "            elif q[i,j] ==q3[i,j]:\n",
        "                qq[i,j] = a3[i,j]\n",
        "\n",
        "            else:\n",
        "                qq[i,j] = a5[i,j]\n",
        "    return qq"
      ]
    },
    {
      "cell_type": "code",
      "execution_count": null,
      "metadata": {
        "id": "-xMpba5TvQJC"
      },
      "outputs": [],
      "source": [
        "def min_a(a1,a3,a5):\n",
        "    mean_sqq1 = np.zeros([len(a1),len(a1[0])])\n",
        "    mean_sqq3 = np.zeros([len(a1),len(a1[0])])\n",
        "    mean_sqq5 = np.zeros([len(a1),len(a1[0])])\n",
        "    mean_sq = np.zeros([len(a1), len(a1[0])])\n",
        "    mean_s = np.zeros([len(a1), len(a1[0])])\n",
        "    for i in range(len(a1)):\n",
        "        for j in range(len(a[0])):\n",
        "            mean_sqq1[i,j] = sum([(a3[i,j]-a1[i,j])**2,(a5[i,j]-a1[i,j])**2])\n",
        "            mean_sqq3[i,j] = sum([(a3[i,j]-a1[i,j])**2, (a5[i,j]-a3[i,j])**2,])\n",
        "            mean_sqq5[i,j] = sum([(a5[i,j]-a1[i,j])**2,(a5[i,j]-a3[i,j])**2,])\n",
        "            mean_sq[i,j] = min(mean_sqq5[i,j],mean_sqq3[i,j],mean_sqq1[i,j])\n",
        "\n",
        "            if mean_sq[i,j] == mean_sqq1[i,j]:\n",
        "                mean_s[i,j] = a1[i,j]\n",
        "            elif mean_sq[i,j] == mean_sqq3[i,j]:\n",
        "                mean_s[i,j] = a3[i,j]\n",
        "            else:\n",
        "                mean_s[i,j] = a5[i,j]\n",
        "    return mean_s"
      ]
    },
    {
      "cell_type": "code",
      "execution_count": null,
      "metadata": {
        "id": "Ge7DFFWzvQJF"
      },
      "outputs": [],
      "source": [
        "q10 = count_q(10, Y, Y2, Y4)\n",
        "q25 = count_q(25, Y, Y2, Y4)\n",
        "q50 = count_q(50, Y, Y2, Y4)\n",
        "q75 = count_q(75, Y, Y2, Y4)\n",
        "q90 = count_q(90, Y, Y2, Y4)"
      ]
    },
    {
      "cell_type": "code",
      "execution_count": null,
      "metadata": {
        "id": "Zz86mMO1vQJF"
      },
      "outputs": [],
      "source": [
        "first = min_a(Y, Y2, Y4)\n",
        "final = np.array([first, q10, q25, q50, q75, q90])\n",
        "k = np.swapaxes(final, 0, 1)\n",
        "np.save('C:\\\\Users\\\\79213\\\\Downloads\\\\norm3.npy', last)"
      ]
    }
  ],
  "metadata": {
    "kernelspec": {
      "display_name": "first",
      "language": "python",
      "name": "python3"
    },
    "language_info": {
      "codemirror_mode": {
        "name": "ipython",
        "version": 3
      },
      "file_extension": ".py",
      "mimetype": "text/x-python",
      "name": "python",
      "nbconvert_exporter": "python",
      "pygments_lexer": "ipython3",
      "version": "3.11.5"
    },
    "colab": {
      "provenance": []
    }
  },
  "nbformat": 4,
  "nbformat_minor": 0
}